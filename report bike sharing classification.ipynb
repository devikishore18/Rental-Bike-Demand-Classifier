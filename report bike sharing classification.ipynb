{
 "cells": [
  {
   "cell_type": "markdown",
   "id": "88722ff3-e429-46c0-a8a3-f2e8ac814ec1",
   "metadata": {},
   "source": [
    " # Bike Sharing Demand Classification - Final Report"
   ]
  },
  {
   "cell_type": "markdown",
   "id": "a56bcbc4-b00b-4fe1-af52-b40cde6a2f5f",
   "metadata": {},
   "source": [
    "## Overview\n",
    "The **Bike Sharing Dataset** contains hourly rental data from Capital Bikeshare in Washington, D.C., collected during the years 2011 and 2012. It is used to analyze and predict bike rental demand based on temporal and environmental features.\n",
    "\n",
    "In this project, we reformulated the problem into a **multiclass classification task** by converting the continuous rental count into 3 demand categories: `Low`, `Medium`, and `High`.\n"
   ]
  },
  {
   "cell_type": "markdown",
   "id": "c0330e7f-7408-48ce-9452-beca12a4983d",
   "metadata": {},
   "source": [
    "## Objective\n",
    "The goal of this classification project is to categorize the bike rental demand into Low, Medium, and High classes based on historical features using various machine learning models."
   ]
  },
  {
   "cell_type": "markdown",
   "id": "9df6529e-d822-4db1-8b62-835f996b98e2",
   "metadata": {},
   "source": [
    "## Dataset Overview\n",
    "- **Dataset**: [UCI Machine Learning Repository](https://archive.ics.uci.edu/ml/datasets/Bike+Sharing+Dataset)\n",
    "\n",
    "- Total Records: ~21,000\n",
    "\n",
    "- Target Feature: cnt_class (Created by binning rental counts)\n",
    "\n",
    "- Classes:\n",
    "\n",
    "   - 0 → Low Demand\n",
    "\n",
    "   - 1 → Medium Demand\n",
    "\n",
    "   - 2 → High Demand\n",
    " \n",
    "\n"
   ]
  },
  {
   "cell_type": "markdown",
   "id": "ef40ab38-aa56-4d94-adb1-8870a2b73cda",
   "metadata": {},
   "source": [
    "###  Original Features\n",
    "\n",
    "| Feature        | Type      | Description |\n",
    "|----------------|-----------|-------------|\n",
    "| `instant`      | Integer   | Record index |\n",
    "| `date`         | Date      | Date in `yyyy-mm-dd` |\n",
    "| `season`       | Categorical (1-4) | 1: Spring, 2: Summer, 3: Fall, 4: Winter |\n",
    "| `yr`           | Binary (0/1) | 0: 2011, 1: 2012 |\n",
    "| `mnth`         | Integer (1-12) | Month |\n",
    "| `hr`           | Integer (0-23) | Hour of the day |\n",
    "| `holiday`      | Binary (0/1) | Whether the day is a holiday |\n",
    "| `weekday`      | Integer (0-6) | Day of the week |\n",
    " | `workingday`   | Binary (0/1) | 1 if working day, 0 otherwise |\n",
    "| `weathersit`   | Categorical (1-4) | 1: Clear, 2: Mist, 3: Light Snow/Rain, 4: Heavy Rain |\n",
    "| `temp`         | Float     | Normalized temperature (0 to 1) |\n",
    "| `atemp`        | Float     | Normalized \"feels like\" temperature |\n",
    "| `hum`          | Float     | Normalized humidity |\n",
    "| `windspeed`    | Float     | Normalized wind speed |\n",
    "| `casual`       | Integer   | Count of casual users |\n",
    "| `registered`   | Integer   | Count of registered users |\n",
    "| `count`        | Integer   | Total bike rentals (target for regression) |\n"
   ]
  },
  {
   "cell_type": "markdown",
   "id": "39b5bb73-2079-4490-9857-cf3d265a5ade",
   "metadata": {},
   "source": [
    "## Data Preprocessing\n"
   ]
  },
  {
   "cell_type": "markdown",
   "id": "07aa4f24-8322-4892-89fe-43b6fd131893",
   "metadata": {},
   "source": [
    "### Target Variable Transformation:\n",
    "\n",
    "df['cnt_class'] = pd.cut(df['count'], bins=[0, 100, 300, df['count'].max()], \n",
    "                         labels=['Low', 'Medium', 'High'])\n",
    " - `cnt_class` — Categorical label for bike demand:\n",
    "  - `Low` (Count ≤ 100)\n",
    "  - `Medium` (100 < Count ≤ 300)\n",
    "  - `High` (Count > 300)\n"
   ]
  },
  {
   "cell_type": "markdown",
   "id": "a38eb70a-72aa-4d96-b6ed-8dd0c8aa2b73",
   "metadata": {},
   "source": [
    "### Label Encoding:\n",
    "\n",
    "le = LabelEncoder()\n",
    "\n",
    "df['cnt_class'] = le.fit_transform(df['cnt_class'])\n",
    "\n"
   ]
  },
  {
   "cell_type": "markdown",
   "id": "ecf170c8-a874-48c7-92cc-2624f7d574d5",
   "metadata": {},
   "source": [
    "### Categorical Encoding:\n",
    "Applied one-hot encoding to:\n",
    "\n",
    "Year (yr)\n",
    "\n",
    "Month (mnth)\n",
    "\n",
    "Weekday (weekday)\n",
    "\n",
    "Working day (workingday)\n",
    "\n",
    "Season (season)\n",
    "\n"
   ]
  },
  {
   "cell_type": "markdown",
   "id": "aa4586f0-3698-46a4-95d1-0b3bed04d4ef",
   "metadata": {},
   "source": [
    "### Balancing the Dataset:\n",
    "Used SMOTE to address class imbalance.\n",
    "\n"
   ]
  },
  {
   "cell_type": "markdown",
   "id": "af847de8-60c1-4cf5-86d9-c47c02053fe3",
   "metadata": {},
   "source": [
    "### Feature Selection:\n",
    "Applied SelectKBest to choose top features based on classification relevance.\n",
    "\n"
   ]
  },
  {
   "cell_type": "markdown",
   "id": "af02909d-a6b3-4f12-ba66-46eb7f737615",
   "metadata": {},
   "source": [
    "### Feature Scaling:\n",
    "Used StandardScaler to normalize features before modeling.\n",
    "\n"
   ]
  },
  {
   "cell_type": "markdown",
   "id": "351af45e-e521-4f7b-ba24-7501914a683e",
   "metadata": {},
   "source": [
    "## Models Used\n"
   ]
  },
  {
   "cell_type": "markdown",
   "id": "da3e5ced-917d-4b8b-9d89-99ada658cddc",
   "metadata": {},
   "source": [
    "| Model               | Accuracy | Precision | Recall | F1 Score |\n",
    "| ------------------- | -------- | --------- | ------ | -------- |\n",
    "| Logistic Regression | 0.63     | 0.63      | 0.63   | 0.63     |\n",
    "| Decision Tree       | 0.84     | 0.84      | 0.84   | 0.84     |\n",
    "| Random Forest       | 0.86     | 0.86      | 0.86   | 0.86     |\n",
    "| AdaBoost            | 0.65     | 0.69      | 0.65   | 0.65     |\n",
    "| Gradient Boosting   | 0.83     | 0.83      | 0.83   | 0.83     |\n"
   ]
  },
  {
   "cell_type": "markdown",
   "id": "b7e66a7e-b669-487a-8864-444e35f80d6c",
   "metadata": {},
   "source": [
    "✅ Best Model: Random Forest Classifier\n",
    "\n"
   ]
  },
  {
   "cell_type": "markdown",
   "id": "b3aacefc-0230-4428-9ad6-c3257ad216c0",
   "metadata": {
    "jp-MarkdownHeadingCollapsed": true
   },
   "source": [
    "### Hyperparameter Tuning\n",
    "- GridSearchCV was used to optimize Random Forest hyperparameters.\n",
    "- Improved model slightly with best estimator settings\n",
    "\n",
    "\n",
    "Tuned Random Forest Evaluation:\n",
    "Accuracy: 0.8637763563136698\n",
    "\n",
    "\n"
   ]
  },
  {
   "cell_type": "markdown",
   "id": "bf0e19cd-331d-47b8-9718-6f49e8ecfdf7",
   "metadata": {
    "jp-MarkdownHeadingCollapsed": true
   },
   "source": [
    "## Evaluation Summary\n",
    "Random Forest performed best with 83% accuracy, indicating a strong ability to classify rental demand.\n",
    "\n",
    "Feature Importance: Factors such as hr (hour), temp, humidity, and categorical time-based features (month, weekday) contributed significantly.\n",
    "\n",
    "Dimensionality Reduction: PCA and t-SNE helped visualize class separation, validating feature selection and class distribution."
   ]
  },
  {
   "cell_type": "markdown",
   "id": "a0af5b94-83e1-4f60-b377-d0f36b2b0122",
   "metadata": {},
   "source": [
    "##  Pipeline Deployment\n",
    "A complete Pipeline was created including:\n",
    "\n",
    "Feature selection\n",
    "\n",
    "Scaling\n",
    "\n",
    "Model fitting (Random Forest)"
   ]
  },
  {
   "cell_type": "markdown",
   "id": "90dff5a0-81d9-448c-89f9-a02ba0df6e6b",
   "metadata": {},
   "source": [
    "## Predictions on Unseen Data\n",
    "Tested the model with a new data point\n",
    "\n",
    "### OUTPUT\n",
    "\n",
    "**Predicted Bike Count Class: High**\n"
   ]
  },
  {
   "cell_type": "markdown",
   "id": "8340a734-9d04-4a41-8873-086168d184ec",
   "metadata": {},
   "source": [
    "## Conclusion\n",
    "This classification system can serve as a strong component in a real-time bike-sharing prediction service, helping cities:\n",
    "\n",
    "Anticipate high/low demand windows.\n",
    "\n",
    "Efficiently deploy bikes to key zones.\n",
    "\n",
    "Improve user experience by preventing shortages"
   ]
  },
  {
   "cell_type": "code",
   "execution_count": null,
   "id": "386eace0-a2ee-455f-b5a7-1271609b4ccd",
   "metadata": {},
   "outputs": [],
   "source": []
  }
 ],
 "metadata": {
  "kernelspec": {
   "display_name": "Python 3 (ipykernel)",
   "language": "python",
   "name": "python3"
  },
  "language_info": {
   "codemirror_mode": {
    "name": "ipython",
    "version": 3
   },
   "file_extension": ".py",
   "mimetype": "text/x-python",
   "name": "python",
   "nbconvert_exporter": "python",
   "pygments_lexer": "ipython3",
   "version": "3.13.1"
  }
 },
 "nbformat": 4,
 "nbformat_minor": 5
}
